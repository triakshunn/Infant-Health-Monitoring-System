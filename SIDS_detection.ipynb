{
  "nbformat": 4,
  "nbformat_minor": 0,
  "metadata": {
    "colab": {
      "name": "SIDS detection.ipynb",
      "provenance": [],
      "include_colab_link": true
    },
    "kernelspec": {
      "name": "python3",
      "display_name": "Python 3"
    },
    "language_info": {
      "name": "python"
    }
  },
  "cells": [
    {
      "cell_type": "markdown",
      "metadata": {
        "id": "view-in-github",
        "colab_type": "text"
      },
      "source": [
        "<a href=\"https://colab.research.google.com/github/triakshunn/Infant-Health-Monitoring-System/blob/main/SIDS_detection.ipynb\" target=\"_parent\"><img src=\"https://colab.research.google.com/assets/colab-badge.svg\" alt=\"Open In Colab\"/></a>"
      ]
    },
    {
      "cell_type": "code",
      "metadata": {
        "id": "9WyGqmUPJ_Oo"
      },
      "source": [
        "import pandas as pd\n"
      ],
      "execution_count": null,
      "outputs": []
    },
    {
      "cell_type": "code",
      "metadata": {
        "colab": {
          "base_uri": "https://localhost:8080/"
        },
        "id": "hPjO9i5fLCpb",
        "outputId": "9d837e64-1bca-4371-c892-eabeb0bb6fe9"
      },
      "source": [
        "df=pd.read_csv(\"/content/IoT Data.csv\")\n",
        "df.head"
      ],
      "execution_count": null,
      "outputs": [
        {
          "output_type": "execute_result",
          "data": {
            "text/plain": [
              "<bound method NDFrame.head of                     Timestamp  ...      Value\n",
              "0    2021-11-18T19:08:42.288Z  ...  -1.415000\n",
              "1    2021-11-18T19:08:42.288Z  ...  96.000000\n",
              "2    2021-11-18T19:08:42.239Z  ... -19.205000\n",
              "3    2021-11-18T19:08:42.001Z  ...  27.000000\n",
              "4    2021-11-18T19:06:02.145Z  ...  -2.168000\n",
              "..                        ...  ...        ...\n",
              "537  2021-11-19T06:52:36.582Z  ... -32.520000\n",
              "538  2021-11-19T06:52:36.579Z  ...  26.400000\n",
              "539  2021-11-19T06:52:20.400Z  ...  -2.259000\n",
              "540  2021-11-19T06:52:20.398Z  ...  26.299999\n",
              "541  2021-11-19T06:52:20.336Z  ... -32.520000\n",
              "\n",
              "[542 rows x 8 columns]>"
            ]
          },
          "metadata": {},
          "execution_count": 125
        }
      ]
    },
    {
      "cell_type": "code",
      "metadata": {
        "colab": {
          "base_uri": "https://localhost:8080/"
        },
        "id": "Yco2hyJ6LTSF",
        "outputId": "bf82b9dc-b426-4016-bb74-2eb60cb09b5d"
      },
      "source": [
        "df=df[['Sensor Name','Value']]\n",
        "#print(df)\n",
        "#print(len(df))\n",
        "#print(df['Sensor Name'][0])\n",
        "#df[\"Sound\"]=\"\"\n",
        "#print(df)\n",
        "for i in range(len(df)):\n",
        "  if df['Sensor Name'][i]==\"bpm\" and df['Value'][i]==float(\"NaN\"):\n",
        "    df['Value'][i]==75\n",
        "df[[\"Angle\",\"BPM\",\"Sound\",\"Temp\"]]=None\n",
        "#print(df)\n",
        "for i in range(len(df)):\n",
        "  if df['Sensor Name'][i]==\"Channel 2\":\n",
        "    df['Angle'][i]=df['Value'][i]\n",
        "  elif df['Sensor Name'][i]==\"bpm\":\n",
        "    df['BPM'][i]=df['Value'][i]\n",
        "  elif df['Sensor Name'][i]==\"Sound\":\n",
        "    df['Sound'][i]=df['Value'][i]\n",
        "  elif df['Sensor Name'][i]==\"Channel 1\":\n",
        "    df['Temp'][i]=df['Value'][i]\n",
        "#print(df)\n",
        "df=df.drop(['Sensor Name','Value'],axis=1)\n",
        "#print(df)\n",
        "angle_len=0\n",
        "BPM_len=0#\n",
        "Sound_len=0\n",
        "temp_len=0\n",
        "for i in range(len(df)):\n",
        "  if df['Angle'][i]!=None:\n",
        "    angle_len+=1\n",
        "  if df['BPM'][i]!=None:\n",
        "    BPM_len+=1\n",
        "  if df['Sound'][i]!=None:\n",
        "    Sound_len+=1\n",
        "  if df['Temp'][i]!=None:\n",
        "    temp_len+=1\n",
        "#print(df['Temp'][0])\n",
        "avg_angle=df['Angle'].sum()/(angle_len)\n",
        "avg_BPM=df['BPM'].sum()/(BPM_len)\n",
        "avg_sound=df['Sound'].sum()/(Sound_len)\n",
        "avg_temp=df['Temp'].sum()/(temp_len)\n",
        "angle_min=df['Angle'].min()\n",
        "angle_max=df['Angle'].max()\n",
        "angle_range= angle_max-angle_min\n",
        "sound_max=df['Sound'].max()\n",
        "pulse_min=df['BPM'].min()\n",
        "pulse_max=df['BPM'].max()\n",
        "sound_min=df['Sound'].min()\n",
        "temp_min=df['Temp'].min()\n",
        "temp_max=df['Temp'].max()\n",
        "Body_array=[[\"Angle\",\"BPM\",\"Sound\",\"Temp\"],[avg_angle,avg_BPM,avg_sound,avg_temp],[angle_min,pulse_min,sound_min,temp_min],[angle_max,pulse_max,sound_max,temp_max]]\n",
        "for i in range(4):\n",
        "  print(\"\\n\")\n",
        "  for j in range(4):\n",
        "    print(Body_array[i][j])\n",
        "\n",
        "# print(avg_angle)  ### Range is more useful\n",
        "# print(avg_BPM)\n",
        "# print(avg_sound)  #### Range is more useful \n",
        "# print(avg_temp)\n",
        "# print(angle_min)\n",
        "# print(angle_max)\n",
        "# print(angle_range)\n",
        "# print(sound_max)"
      ],
      "execution_count": null,
      "outputs": [
        {
          "output_type": "stream",
          "name": "stdout",
          "text": [
            "\n",
            "\n",
            "Angle\n",
            "BPM\n",
            "Sound\n",
            "Temp\n",
            "\n",
            "\n",
            "-5.6875263976776305\n",
            "101.91071428571429\n",
            "50.7594674891184\n",
            "27.06585350329269\n",
            "\n",
            "\n",
            "-108.01300049999999\n",
            "43.0\n",
            "-62.34500122\n",
            "26.29999924\n",
            "\n",
            "\n",
            "160.9850006\n",
            "231.0\n",
            "149.0\n",
            "28.29999924\n"
          ]
        },
        {
          "output_type": "stream",
          "name": "stderr",
          "text": [
            "/usr/local/lib/python3.7/dist-packages/pandas/core/indexing.py:659: SettingWithCopyWarning: \n",
            "A value is trying to be set on a copy of a slice from a DataFrame.\n",
            "Try using .loc[row_indexer,col_indexer] = value instead\n",
            "\n",
            "See the caveats in the documentation: https://pandas.pydata.org/pandas-docs/stable/user_guide/indexing.html#returning-a-view-versus-a-copy\n",
            "  self.obj[k] = np.nan\n",
            "/usr/local/lib/python3.7/dist-packages/ipykernel_launcher.py:10: SettingWithCopyWarning: \n",
            "A value is trying to be set on a copy of a slice from a DataFrame.\n",
            "Try using .loc[row_indexer,col_indexer] = value instead\n",
            "\n",
            "See the caveats in the documentation: https://pandas.pydata.org/pandas-docs/stable/user_guide/indexing.html#returning-a-view-versus-a-copy\n",
            "  # Remove the CWD from sys.path while we load stuff.\n",
            "/usr/local/lib/python3.7/dist-packages/pandas/core/indexing.py:1763: SettingWithCopyWarning: \n",
            "A value is trying to be set on a copy of a slice from a DataFrame.\n",
            "Try using .loc[row_indexer,col_indexer] = value instead\n",
            "\n",
            "See the caveats in the documentation: https://pandas.pydata.org/pandas-docs/stable/user_guide/indexing.html#returning-a-view-versus-a-copy\n",
            "  isetter(loc, value)\n",
            "/usr/local/lib/python3.7/dist-packages/ipykernel_launcher.py:14: SettingWithCopyWarning: \n",
            "A value is trying to be set on a copy of a slice from a DataFrame\n",
            "\n",
            "See the caveats in the documentation: https://pandas.pydata.org/pandas-docs/stable/user_guide/indexing.html#returning-a-view-versus-a-copy\n",
            "  \n",
            "/usr/local/lib/python3.7/dist-packages/IPython/core/interactiveshell.py:2882: SettingWithCopyWarning: \n",
            "A value is trying to be set on a copy of a slice from a DataFrame\n",
            "\n",
            "See the caveats in the documentation: https://pandas.pydata.org/pandas-docs/stable/user_guide/indexing.html#returning-a-view-versus-a-copy\n",
            "  exec(code_obj, self.user_global_ns, self.user_ns)\n",
            "/usr/local/lib/python3.7/dist-packages/ipykernel_launcher.py:16: SettingWithCopyWarning: \n",
            "A value is trying to be set on a copy of a slice from a DataFrame\n",
            "\n",
            "See the caveats in the documentation: https://pandas.pydata.org/pandas-docs/stable/user_guide/indexing.html#returning-a-view-versus-a-copy\n",
            "  app.launch_new_instance()\n",
            "/usr/local/lib/python3.7/dist-packages/ipykernel_launcher.py:18: SettingWithCopyWarning: \n",
            "A value is trying to be set on a copy of a slice from a DataFrame\n",
            "\n",
            "See the caveats in the documentation: https://pandas.pydata.org/pandas-docs/stable/user_guide/indexing.html#returning-a-view-versus-a-copy\n",
            "/usr/local/lib/python3.7/dist-packages/ipykernel_launcher.py:20: SettingWithCopyWarning: \n",
            "A value is trying to be set on a copy of a slice from a DataFrame\n",
            "\n",
            "See the caveats in the documentation: https://pandas.pydata.org/pandas-docs/stable/user_guide/indexing.html#returning-a-view-versus-a-copy\n"
          ]
        }
      ]
    },
    {
      "cell_type": "markdown",
      "metadata": {
        "id": "LidMyYucYMRx"
      },
      "source": [
        "SIDS Operation"
      ]
    },
    {
      "cell_type": "markdown",
      "metadata": {
        "id": "jqKKTvwco6xh"
      },
      "source": [
        "The basic algorithm goes as follows:\n",
        "   SIDS can be triggered by following conditions:\n",
        "   1) A declining pulse value\n",
        "   2) Prone position movement(More than -50 to 50 degrees)\n",
        "   3) High temp values(>37.2 degree celsius)"
      ]
    },
    {
      "cell_type": "markdown",
      "metadata": {
        "id": "Ia9hgb9Tr7Ud"
      },
      "source": [
        ""
      ]
    },
    {
      "cell_type": "code",
      "metadata": {
        "id": "ItWvTaW_YPHx",
        "colab": {
          "base_uri": "https://localhost:8080/"
        },
        "outputId": "0bb6023d-7b50-42ea-d259-754d4fb8bb54"
      },
      "source": [
        "pointer=0\n",
        "if(angle_range>100):\n",
        "  pointer+=1\n",
        "if(avg_temp>30):\n",
        "  pointer+=1\n",
        "if(pulse_min<60):\n",
        "  pointer+=1\n",
        "print(pointer)\n",
        "if pointer==0:\n",
        "  print(\"No evident danger of SIDS\")\n",
        "if pointer==1 or 2:\n",
        "  print(\"Evident danger of SIDS\")\n",
        "if pointer==3:\n",
        "  print(\"High danger of SIDS\")\n",
        "\n",
        "\n",
        "\n"
      ],
      "execution_count": null,
      "outputs": [
        {
          "output_type": "stream",
          "name": "stdout",
          "text": [
            "2\n",
            "Evident danger of SIDS\n"
          ]
        }
      ]
    }
  ]
}